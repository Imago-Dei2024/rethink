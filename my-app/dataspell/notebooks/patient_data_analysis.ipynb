{
 "cells": [
  {
   "cell_type": "markdown",
   "metadata": {},
   "source": [
    "# Patient Data Analysis\n",
    "\n",
    "This notebook demonstrates how to connect to the PostgreSQL database and analyze patient data using Python and SQL."
   ]
  },
  {
   "cell_type": "markdown",
   "metadata": {},
   "source": [
    "## Setup\n",
    "\n",
    "First, let's import the necessary libraries and set up the database connection."
   ]
  },
  {
   "cell_type": "code",
   "execution_count": null,
   "metadata": {},
   "outputs": [],
   "source": [
    "import pandas as pd\n",
    "import numpy as np\n",
    "import seaborn as sns\n",
    "from datetime import datetime, timedelta\n",
    "\n",
    "# Install matplotlib\n",
    "%pip install matplotlib\n",
    "\n",
    "import matplotlib.pyplot as plt\n",
    "\n",
    "# Set up plotting\n",
    "%matplotlib inline\n",
    "plt.style.use('ggplot')\n",
    "sns.set(style=\"whitegrid\")\n",
    "\n",
    "# Import our database configuration\n",
    "import sys\n",
    "sys.path.append('../connection')\n",
    "from db_config import query_to_dataframe, get_connection"
   ]
  },
  {
   "cell_type": "markdown",
   "metadata": {},
   "source": [
    "## Patient Demographics\n",
    "\n",
    "Let's analyze the age distribution of our patients."
   ]
  },
  {
   "cell_type": "code",
   "execution_count": null,
   "metadata": {},
   "outputs": [],
   "source": [
    "# Query to get patient age distribution\n",
    "age_query = \"\"\"\n",
    "SELECT \n",
    "    EXTRACT(YEAR FROM AGE(NOW(), u.\\\"dateOfBirth\\\")) AS age,\n",
    "    COUNT(*) AS patient_count\n",
    "FROM \n",
    "    users u\n",
    "JOIN \n",
    "    patient_profiles pp ON u.id = pp.\\\"userId\\\"\n",
    "WHERE \n",
    "    u.role = 'PATIENT'\n",
    "GROUP BY \n",
    "    age\n",
    "ORDER BY \n",
    "    age;\n",
    "\"\"\"\n",
    "\n",
    "# Execute the query and load results into a DataFrame\n",
    "age_df = query_to_dataframe(age_query)\n",
    "\n",
    "# Display the first few rows\n",
    "age_df.head()"
   ]
  },
  {
   "cell_type": "code",
   "execution_count": null,
   "metadata": {},
   "outputs": [],
   "source": [
    "# Plot the age distribution\n",
    "plt.figure(figsize=(12, 6))\n",
    "sns.barplot(x='age', y='patient_count', data=age_df)\n",
    "plt.title('Patient Age Distribution')\n",
    "plt.xlabel('Age')\n",
    "plt.ylabel('Number of Patients')\n",
    "plt.xticks(rotation=45)\n",
    "plt.tight_layout()\n",
    "plt.show()"
   ]
  },
  {
   "cell_type": "markdown",
   "metadata": {},
   "source": [
    "## Appointment Analysis\n",
    "\n",
    "Let's analyze appointment data to understand patterns and trends."
   ]
  },
  {
   "cell_type": "code",
   "execution_count": null,
   "metadata": {},
   "outputs": [],
   "source": [
    "# Query to get appointment statistics by month\n",
    "appointment_query = \"\"\"\n",
    "SELECT \n",
    "    DATE_TRUNC('month', \\\"appointmentTime\\\") AS month,\n",
    "    \\\"appointmentType\\\",\n",
    "    COUNT(*) AS appointment_count,\n",
    "    COUNT(CASE WHEN status = 'COMPLETED' THEN 1 END) AS completed,\n",
    "    COUNT(CASE WHEN status = 'CANCELLED' THEN 1 END) AS cancelled,\n",
    "    COUNT(CASE WHEN status = 'NO_SHOW' THEN 1 END) AS no_show\n",
    "FROM \n",
    "    appointments\n",
    "GROUP BY \n",
    "    month, \\\"appointmentType\\\"\n",
    "ORDER BY \n",
    "    month DESC, \\\"appointmentType\\\";\n",
    "\"\"\"\n",
    "\n",
    "# Execute the query and load results into a DataFrame\n",
    "appointment_df = query_to_dataframe(appointment_query)\n",
    "\n",
    "# Convert month to datetime and format it\n",
    "appointment_df['month'] = pd.to_datetime(appointment_df['month'])\n",
    "appointment_df['month_formatted'] = appointment_df['month'].dt.strftime('%b %Y')\n",
    "\n",
    "# Display the first few rows\n",
    "appointment_df.head()"
   ]
  },
  {
   "cell_type": "code",
   "execution_count": null,
   "metadata": {},
   "outputs": [],
   "source": [
    "# Plot appointment trends over time\n",
    "plt.figure(figsize=(14, 7))\n",
    "\n",
    "# Pivot the data for plotting\n",
    "appointment_pivot = appointment_df.pivot_table(\n",
    "    index='month', \n",
    "    columns='appointmentType', \n",
    "    values='appointment_count',\n",
    "    aggfunc='sum'\n",
    ")\n",
    "\n",
    "# Plot\n",
    "appointment_pivot.plot(kind='line', marker='o')\n",
    "plt.title('Appointment Trends by Type')\n",
    "plt.xlabel('Month')\n",
    "plt.ylabel('Number of Appointments')\n",
    "plt.grid(True)\n",
    "plt.xticks(rotation=45)\n",
    "plt.tight_layout()\n",
    "plt.show()"
   ]
  },
  {
   "cell_type": "markdown",
   "metadata": {},
   "source": [
    "## Medication Analysis\n",
    "\n",
    "Let's analyze medication prescription patterns."
   ]
  },
  {
   "cell_type": "code",
   "execution_count": null,
   "metadata": {},
   "outputs": [],
   "source": [
    "# Query to get medication prescription trends\n",
    "medication_query = \"\"\"\n",
    "SELECT \n",
    "    \\\"medicationName\\\",\n",
    "    COUNT(*) AS prescription_count,\n",
    "    COUNT(DISTINCT \\\"patientId\\\") AS patient_count\n",
    "FROM \n",
    "    medications\n",
    "WHERE \n",
    "    status = 'ACTIVE'\n",
    "GROUP BY \n",
    "    \\\"medicationName\\\"\n",
    "ORDER BY \n",
    "    prescription_count DESC\n",
    "LIMIT 20;\n",
    "\"\"\"\n",
    "\n",
    "# Execute the query and load results into a DataFrame\n",
    "medication_df = query_to_dataframe(medication_query)\n",
    "\n",
    "# Display the first few rows\n",
    "medication_df.head()"
   ]
  },
  {
   "cell_type": "code",
   "execution_count": null,
   "metadata": {},
   "outputs": [],
   "source": [
    "# Plot top medications\n",
    "plt.figure(figsize=(12, 8))\n",
    "sns.barplot(x='prescription_count', y='medicationName', data=medication_df.head(10))\n",
    "plt.title('Top 10 Most Prescribed Medications')\n",
    "plt.xlabel('Number of Prescriptions')\n",
    "plt.ylabel('Medication')\n",
    "plt.tight_layout()\n",
    "plt.show()"
   ]
  },
  {
   "cell_type": "markdown",
   "metadata": {},
   "source": [
    "## Provider Workload Analysis\n",
    "\n",
    "Let's analyze provider workload to understand resource allocation."
   ]
  },
  {
   "cell_type": "code",
   "execution_count": null,
   "metadata": {},
   "outputs": [],
   "source": [
    "# Query to get provider workload\n",
    "provider_query = \"\"\"\n",
    "SELECT \n",
    "    p.id AS provider_id,\n",
    "    u.\\\"firstName\\\" || ' ' || u.\\\"lastName\\\" AS provider_name,\n",
    "    p.specialty,\n",
    "    COUNT(a.id) AS total_appointments,\n",
    "    COUNT(DISTINCT a.\\\"patientId\\\") AS unique_patients\n",
    "FROM \n",
    "    providers p\n",
    "JOIN \n",
    "    users u ON p.\\\"userId\\\" = u.id\n",
    "LEFT JOIN \n",
    "    appointments a ON p.id = a.\\\"providerId\\\"\n",
    "WHERE \n",
    "    a.\\\"appointmentTime\\\" BETWEEN CURRENT_DATE - INTERVAL '30 days' AND CURRENT_DATE\n",
    "GROUP BY \n",
    "    p.id, provider_name, p.specialty\n",
    "ORDER BY \n",
    "    total_appointments DESC;\n",
    "\"\"\"\n",
    "\n",
    "# Execute the query and load results into a DataFrame\n",
    "provider_df = query_to_dataframe(provider_query)\n",
    "\n",
    "# Display the first few rows\n",
    "provider_df.head()"
   ]
  },
  {
   "cell_type": "code",
   "execution_count": null,
   "metadata": {},
   "outputs": [],
   "source": [
    "# Plot provider workload\n",
    "plt.figure(figsize=(14, 8))\n",
    "\n",
    "# Create a scatter plot\n",
    "sns.scatterplot(\n",
    "    x='total_appointments', \n",
    "    y='unique_patients', \n",
    "    hue='specialty', \n",
    "    size='total_appointments',\n",
    "    sizes=(50, 500),\n",
    "    alpha=0.7,\n",
    "    data=provider_df\n",
    ")\n",
    "\n",
    "# Add provider names as annotations\n",
    "for i, row in provider_df.iterrows():\n",
    "    plt.annotate(\n",
    "        row['provider_name'], \n",
    "        (row['total_appointments'], row['unique_patients']),\n",
    "        xytext=(5, 5),\n",
    "        textcoords='offset points'\n",
    "    )\n",
    "\n",
    "plt.title('Provider Workload Analysis (Last 30 Days)')\n",
    "plt.xlabel('Total Appointments')\n",
    "plt.ylabel('Unique Patients')\n",
    "plt.grid(True)\n",
    "plt.tight_layout()\n",
    "plt.show()"
   ]
  },
  {
   "cell_type": "markdown",
   "metadata": {},
   "source": [
    "## Custom Analysis\n",
    "\n",
    "You can add your own custom analysis below. Here's a template for running a custom SQL query:"
   ]
  },
  {
   "cell_type": "code",
   "execution_count": null,
   "metadata": {},
   "outputs": [],
   "source": [
    "# Define your custom SQL query\n",
    "custom_query = \"\"\"\n",
    "-- Your SQL query here\n",
    "SELECT * FROM your_table LIMIT 10;\n",
    "\"\"\"\n",
    "\n",
    "# Execute the query and load results into a DataFrame\n",
    "# custom_df = query_to_dataframe(custom_query)\n",
    "\n",
    "# Display the results\n",
    "# custom_df.head()"
   ]
  },
  {
   "cell_type": "markdown",
   "metadata": {},
   "source": [
    "## Conclusion\n",
    "\n",
    "This notebook demonstrates how to connect to the PostgreSQL database and analyze patient data using Python and SQL. You can extend this analysis by adding more queries and visualizations."
   ]
  }
 ],
 "metadata": {
  "kernelspec": {
   "display_name": "Python 3",
   "language": "python",
   "name": "python3"
  },
  "language_info": {
   "codemirror_mode": {
    "name": "ipython",
    "version": 3
   },
   "file_extension": ".py",
   "mimetype": "text/x-python",
   "name": "python",
   "nbconvert_exporter": "python",
   "pygments_lexer": "ipython3",
   "version": "3.8.10"
  }
 },
 "nbformat": 4,
 "nbformat_minor": 4
}
